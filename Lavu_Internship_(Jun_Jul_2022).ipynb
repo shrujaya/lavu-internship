{
  "cells": [
    {
      "cell_type": "markdown",
      "metadata": {
        "id": "view-in-github",
        "colab_type": "text"
      },
      "source": [
        "<a href=\"https://colab.research.google.com/github/shrujaya/lavu-internship/blob/main/Lavu_Internship_(Jun_Jul_2022).ipynb\" target=\"_parent\"><img src=\"https://colab.research.google.com/assets/colab-badge.svg\" alt=\"Open In Colab\"/></a>"
      ]
    },
    {
      "cell_type": "markdown",
      "metadata": {
        "id": "uViF79T3Jfve"
      },
      "source": [
        "## **Phase 1 - Opening Up the Dataset**\n",
        "\n"
      ]
    },
    {
      "cell_type": "code",
      "execution_count": null,
      "metadata": {
        "id": "DBA80VgHJY5i"
      },
      "outputs": [],
      "source": [
        "import pandas as pd\n",
        "import numpy as np"
      ]
    },
    {
      "cell_type": "code",
      "execution_count": null,
      "metadata": {
        "colab": {
          "base_uri": "https://localhost:8080/"
        },
        "id": "NFs3zYlOKfO0",
        "outputId": "5ea0ace1-2663-44a0-fb3c-7985f4e83d19"
      },
      "outputs": [
        {
          "output_type": "stream",
          "name": "stdout",
          "text": [
            "<class 'pandas.core.frame.DataFrame'>\n",
            "RangeIndex: 10000 entries, 0 to 9999\n",
            "Data columns (total 2 columns):\n",
            " #   Column      Non-Null Count  Dtype \n",
            "---  ------      --------------  ----- \n",
            " 0   @timestamp  10000 non-null  object\n",
            " 1   @message    10000 non-null  object\n",
            "dtypes: object(2)\n",
            "memory usage: 156.4+ KB\n"
          ]
        }
      ],
      "source": [
        "df = pd.read_csv('/content/drive/MyDrive/logs-insights-results_10k_records.csv')\n",
        "df.info()"
      ]
    },
    {
      "cell_type": "code",
      "execution_count": null,
      "metadata": {
        "colab": {
          "base_uri": "https://localhost:8080/",
          "height": 206
        },
        "id": "EWF-wnDYNx4v",
        "outputId": "5283f1a5-a36c-422c-f223-71cd40e98fb6"
      },
      "outputs": [
        {
          "output_type": "execute_result",
          "data": {
            "text/plain": [
              "                @timestamp                                           @message\n",
              "0  2022-06-13 10:30:46.911  {\"timestamp\":1655116246911,\"formatVersion\":1,\"...\n",
              "1  2022-06-13 10:30:46.309  {\"timestamp\":1655116246309,\"formatVersion\":1,\"...\n",
              "2  2022-06-13 10:30:45.831  {\"timestamp\":1655116245831,\"formatVersion\":1,\"...\n",
              "3  2022-06-13 10:30:45.633  {\"timestamp\":1655116245633,\"formatVersion\":1,\"...\n",
              "4  2022-06-13 10:30:45.564  {\"timestamp\":1655116245564,\"formatVersion\":1,\"..."
            ],
            "text/html": [
              "\n",
              "  <div id=\"df-0df48637-5683-4c34-a47c-dc599ed56ac2\">\n",
              "    <div class=\"colab-df-container\">\n",
              "      <div>\n",
              "<style scoped>\n",
              "    .dataframe tbody tr th:only-of-type {\n",
              "        vertical-align: middle;\n",
              "    }\n",
              "\n",
              "    .dataframe tbody tr th {\n",
              "        vertical-align: top;\n",
              "    }\n",
              "\n",
              "    .dataframe thead th {\n",
              "        text-align: right;\n",
              "    }\n",
              "</style>\n",
              "<table border=\"1\" class=\"dataframe\">\n",
              "  <thead>\n",
              "    <tr style=\"text-align: right;\">\n",
              "      <th></th>\n",
              "      <th>@timestamp</th>\n",
              "      <th>@message</th>\n",
              "    </tr>\n",
              "  </thead>\n",
              "  <tbody>\n",
              "    <tr>\n",
              "      <th>0</th>\n",
              "      <td>2022-06-13 10:30:46.911</td>\n",
              "      <td>{\"timestamp\":1655116246911,\"formatVersion\":1,\"...</td>\n",
              "    </tr>\n",
              "    <tr>\n",
              "      <th>1</th>\n",
              "      <td>2022-06-13 10:30:46.309</td>\n",
              "      <td>{\"timestamp\":1655116246309,\"formatVersion\":1,\"...</td>\n",
              "    </tr>\n",
              "    <tr>\n",
              "      <th>2</th>\n",
              "      <td>2022-06-13 10:30:45.831</td>\n",
              "      <td>{\"timestamp\":1655116245831,\"formatVersion\":1,\"...</td>\n",
              "    </tr>\n",
              "    <tr>\n",
              "      <th>3</th>\n",
              "      <td>2022-06-13 10:30:45.633</td>\n",
              "      <td>{\"timestamp\":1655116245633,\"formatVersion\":1,\"...</td>\n",
              "    </tr>\n",
              "    <tr>\n",
              "      <th>4</th>\n",
              "      <td>2022-06-13 10:30:45.564</td>\n",
              "      <td>{\"timestamp\":1655116245564,\"formatVersion\":1,\"...</td>\n",
              "    </tr>\n",
              "  </tbody>\n",
              "</table>\n",
              "</div>\n",
              "      <button class=\"colab-df-convert\" onclick=\"convertToInteractive('df-0df48637-5683-4c34-a47c-dc599ed56ac2')\"\n",
              "              title=\"Convert this dataframe to an interactive table.\"\n",
              "              style=\"display:none;\">\n",
              "        \n",
              "  <svg xmlns=\"http://www.w3.org/2000/svg\" height=\"24px\"viewBox=\"0 0 24 24\"\n",
              "       width=\"24px\">\n",
              "    <path d=\"M0 0h24v24H0V0z\" fill=\"none\"/>\n",
              "    <path d=\"M18.56 5.44l.94 2.06.94-2.06 2.06-.94-2.06-.94-.94-2.06-.94 2.06-2.06.94zm-11 1L8.5 8.5l.94-2.06 2.06-.94-2.06-.94L8.5 2.5l-.94 2.06-2.06.94zm10 10l.94 2.06.94-2.06 2.06-.94-2.06-.94-.94-2.06-.94 2.06-2.06.94z\"/><path d=\"M17.41 7.96l-1.37-1.37c-.4-.4-.92-.59-1.43-.59-.52 0-1.04.2-1.43.59L10.3 9.45l-7.72 7.72c-.78.78-.78 2.05 0 2.83L4 21.41c.39.39.9.59 1.41.59.51 0 1.02-.2 1.41-.59l7.78-7.78 2.81-2.81c.8-.78.8-2.07 0-2.86zM5.41 20L4 18.59l7.72-7.72 1.47 1.35L5.41 20z\"/>\n",
              "  </svg>\n",
              "      </button>\n",
              "      \n",
              "  <style>\n",
              "    .colab-df-container {\n",
              "      display:flex;\n",
              "      flex-wrap:wrap;\n",
              "      gap: 12px;\n",
              "    }\n",
              "\n",
              "    .colab-df-convert {\n",
              "      background-color: #E8F0FE;\n",
              "      border: none;\n",
              "      border-radius: 50%;\n",
              "      cursor: pointer;\n",
              "      display: none;\n",
              "      fill: #1967D2;\n",
              "      height: 32px;\n",
              "      padding: 0 0 0 0;\n",
              "      width: 32px;\n",
              "    }\n",
              "\n",
              "    .colab-df-convert:hover {\n",
              "      background-color: #E2EBFA;\n",
              "      box-shadow: 0px 1px 2px rgba(60, 64, 67, 0.3), 0px 1px 3px 1px rgba(60, 64, 67, 0.15);\n",
              "      fill: #174EA6;\n",
              "    }\n",
              "\n",
              "    [theme=dark] .colab-df-convert {\n",
              "      background-color: #3B4455;\n",
              "      fill: #D2E3FC;\n",
              "    }\n",
              "\n",
              "    [theme=dark] .colab-df-convert:hover {\n",
              "      background-color: #434B5C;\n",
              "      box-shadow: 0px 1px 3px 1px rgba(0, 0, 0, 0.15);\n",
              "      filter: drop-shadow(0px 1px 2px rgba(0, 0, 0, 0.3));\n",
              "      fill: #FFFFFF;\n",
              "    }\n",
              "  </style>\n",
              "\n",
              "      <script>\n",
              "        const buttonEl =\n",
              "          document.querySelector('#df-0df48637-5683-4c34-a47c-dc599ed56ac2 button.colab-df-convert');\n",
              "        buttonEl.style.display =\n",
              "          google.colab.kernel.accessAllowed ? 'block' : 'none';\n",
              "\n",
              "        async function convertToInteractive(key) {\n",
              "          const element = document.querySelector('#df-0df48637-5683-4c34-a47c-dc599ed56ac2');\n",
              "          const dataTable =\n",
              "            await google.colab.kernel.invokeFunction('convertToInteractive',\n",
              "                                                     [key], {});\n",
              "          if (!dataTable) return;\n",
              "\n",
              "          const docLinkHtml = 'Like what you see? Visit the ' +\n",
              "            '<a target=\"_blank\" href=https://colab.research.google.com/notebooks/data_table.ipynb>data table notebook</a>'\n",
              "            + ' to learn more about interactive tables.';\n",
              "          element.innerHTML = '';\n",
              "          dataTable['output_type'] = 'display_data';\n",
              "          await google.colab.output.renderOutput(dataTable, element);\n",
              "          const docLink = document.createElement('div');\n",
              "          docLink.innerHTML = docLinkHtml;\n",
              "          element.appendChild(docLink);\n",
              "        }\n",
              "      </script>\n",
              "    </div>\n",
              "  </div>\n",
              "  "
            ]
          },
          "metadata": {},
          "execution_count": 48
        }
      ],
      "source": [
        "df.head()"
      ]
    },
    {
      "cell_type": "code",
      "execution_count": null,
      "metadata": {
        "colab": {
          "base_uri": "https://localhost:8080/"
        },
        "id": "nKN7U3QMWU8n",
        "outputId": "71734c65-79ce-43f4-d153-126233a20b5e"
      },
      "outputs": [
        {
          "output_type": "stream",
          "name": "stdout",
          "text": [
            "@timestamp <class 'str'>\n",
            "@message <class 'str'>\n"
          ]
        }
      ],
      "source": [
        "for column in df.columns :\n",
        "  print(column, type(df[column][0]))"
      ]
    },
    {
      "cell_type": "code",
      "execution_count": null,
      "metadata": {
        "id": "DPlVWE3-N-nZ"
      },
      "outputs": [],
      "source": [
        "import json"
      ]
    },
    {
      "cell_type": "code",
      "execution_count": null,
      "metadata": {
        "id": "uMRuspdbTUyS"
      },
      "outputs": [],
      "source": [
        "msgs = df['@message'].apply(json.loads) #applying json.loads() to each json string in the series, returns a series of dicts\n",
        "msgs = pd.DataFrame(msgs.tolist()) #converts a series of dicts into a dataframe"
      ]
    },
    {
      "cell_type": "code",
      "execution_count": null,
      "metadata": {
        "colab": {
          "base_uri": "https://localhost:8080/",
          "height": 444
        },
        "id": "N-aS8S2ZWq_t",
        "outputId": "a02651a1-82fc-4785-c161-be4e9ce48561"
      },
      "outputs": [
        {
          "output_type": "execute_result",
          "data": {
            "text/plain": [
              "       timestamp  formatVersion  \\\n",
              "0  1655116246911              1   \n",
              "1  1655116246309              1   \n",
              "2  1655116245831              1   \n",
              "3  1655116245633              1   \n",
              "4  1655116245564              1   \n",
              "\n",
              "                                            webaclId  \\\n",
              "0  arn:aws:wafv2:us-east-1:962002622227:regional/...   \n",
              "1  arn:aws:wafv2:us-east-1:962002622227:regional/...   \n",
              "2  arn:aws:wafv2:us-east-1:962002622227:regional/...   \n",
              "3  arn:aws:wafv2:us-east-1:962002622227:regional/...   \n",
              "4  arn:aws:wafv2:us-east-1:962002622227:regional/...   \n",
              "\n",
              "             terminatingRuleId terminatingRuleType action  \\\n",
              "0  WAF-ACL-Domain-Kiosk-Mobile             REGULAR  ALLOW   \n",
              "1  WAF-ACL-Domain-Kiosk-Mobile             REGULAR  ALLOW   \n",
              "2  WAF-ACL-Domain-Kiosk-Mobile             REGULAR  ALLOW   \n",
              "3  WAF-ACL-Domain-Kiosk-Mobile             REGULAR  ALLOW   \n",
              "4  WAF-ACL-Domain-Kiosk-Mobile             REGULAR  ALLOW   \n",
              "\n",
              "  terminatingRuleMatchDetails httpSourceName  \\\n",
              "0                          []            ALB   \n",
              "1                          []            ALB   \n",
              "2                          []            ALB   \n",
              "3                          []            ALB   \n",
              "4                          []            ALB   \n",
              "\n",
              "                                      httpSourceId ruleGroupList  \\\n",
              "0  962002622227-app/FortiWeb-ALB3/390b2ceea0584755            []   \n",
              "1  962002622227-app/FortiWeb-ALB3/390b2ceea0584755            []   \n",
              "2  962002622227-app/FortiWeb-ALB3/390b2ceea0584755            []   \n",
              "3  962002622227-app/FortiWeb-ALB3/390b2ceea0584755            []   \n",
              "4  962002622227-app/FortiWeb-ALB3/390b2ceea0584755            []   \n",
              "\n",
              "  rateBasedRuleList nonTerminatingMatchingRules requestHeadersInserted  \\\n",
              "0                []                          []                   None   \n",
              "1                []                          []                   None   \n",
              "2                []                          []                   None   \n",
              "3                []                          []                   None   \n",
              "4                []                          []                   None   \n",
              "\n",
              "  responseCodeSent                                        httpRequest labels  \n",
              "0             None  {'clientIp': '66.25.248.39', 'country': 'US', ...    NaN  \n",
              "1             None  {'clientIp': '97.121.173.253', 'country': 'US'...    NaN  \n",
              "2             None  {'clientIp': '24.101.215.181', 'country': 'US'...    NaN  \n",
              "3             None  {'clientIp': '66.220.98.206', 'country': 'US',...    NaN  \n",
              "4             None  {'clientIp': '174.80.220.8', 'country': 'US', ...    NaN  "
            ],
            "text/html": [
              "\n",
              "  <div id=\"df-5ed1d9ef-db12-41bf-9fc5-cf9604e45686\">\n",
              "    <div class=\"colab-df-container\">\n",
              "      <div>\n",
              "<style scoped>\n",
              "    .dataframe tbody tr th:only-of-type {\n",
              "        vertical-align: middle;\n",
              "    }\n",
              "\n",
              "    .dataframe tbody tr th {\n",
              "        vertical-align: top;\n",
              "    }\n",
              "\n",
              "    .dataframe thead th {\n",
              "        text-align: right;\n",
              "    }\n",
              "</style>\n",
              "<table border=\"1\" class=\"dataframe\">\n",
              "  <thead>\n",
              "    <tr style=\"text-align: right;\">\n",
              "      <th></th>\n",
              "      <th>timestamp</th>\n",
              "      <th>formatVersion</th>\n",
              "      <th>webaclId</th>\n",
              "      <th>terminatingRuleId</th>\n",
              "      <th>terminatingRuleType</th>\n",
              "      <th>action</th>\n",
              "      <th>terminatingRuleMatchDetails</th>\n",
              "      <th>httpSourceName</th>\n",
              "      <th>httpSourceId</th>\n",
              "      <th>ruleGroupList</th>\n",
              "      <th>rateBasedRuleList</th>\n",
              "      <th>nonTerminatingMatchingRules</th>\n",
              "      <th>requestHeadersInserted</th>\n",
              "      <th>responseCodeSent</th>\n",
              "      <th>httpRequest</th>\n",
              "      <th>labels</th>\n",
              "    </tr>\n",
              "  </thead>\n",
              "  <tbody>\n",
              "    <tr>\n",
              "      <th>0</th>\n",
              "      <td>1655116246911</td>\n",
              "      <td>1</td>\n",
              "      <td>arn:aws:wafv2:us-east-1:962002622227:regional/...</td>\n",
              "      <td>WAF-ACL-Domain-Kiosk-Mobile</td>\n",
              "      <td>REGULAR</td>\n",
              "      <td>ALLOW</td>\n",
              "      <td>[]</td>\n",
              "      <td>ALB</td>\n",
              "      <td>962002622227-app/FortiWeb-ALB3/390b2ceea0584755</td>\n",
              "      <td>[]</td>\n",
              "      <td>[]</td>\n",
              "      <td>[]</td>\n",
              "      <td>None</td>\n",
              "      <td>None</td>\n",
              "      <td>{'clientIp': '66.25.248.39', 'country': 'US', ...</td>\n",
              "      <td>NaN</td>\n",
              "    </tr>\n",
              "    <tr>\n",
              "      <th>1</th>\n",
              "      <td>1655116246309</td>\n",
              "      <td>1</td>\n",
              "      <td>arn:aws:wafv2:us-east-1:962002622227:regional/...</td>\n",
              "      <td>WAF-ACL-Domain-Kiosk-Mobile</td>\n",
              "      <td>REGULAR</td>\n",
              "      <td>ALLOW</td>\n",
              "      <td>[]</td>\n",
              "      <td>ALB</td>\n",
              "      <td>962002622227-app/FortiWeb-ALB3/390b2ceea0584755</td>\n",
              "      <td>[]</td>\n",
              "      <td>[]</td>\n",
              "      <td>[]</td>\n",
              "      <td>None</td>\n",
              "      <td>None</td>\n",
              "      <td>{'clientIp': '97.121.173.253', 'country': 'US'...</td>\n",
              "      <td>NaN</td>\n",
              "    </tr>\n",
              "    <tr>\n",
              "      <th>2</th>\n",
              "      <td>1655116245831</td>\n",
              "      <td>1</td>\n",
              "      <td>arn:aws:wafv2:us-east-1:962002622227:regional/...</td>\n",
              "      <td>WAF-ACL-Domain-Kiosk-Mobile</td>\n",
              "      <td>REGULAR</td>\n",
              "      <td>ALLOW</td>\n",
              "      <td>[]</td>\n",
              "      <td>ALB</td>\n",
              "      <td>962002622227-app/FortiWeb-ALB3/390b2ceea0584755</td>\n",
              "      <td>[]</td>\n",
              "      <td>[]</td>\n",
              "      <td>[]</td>\n",
              "      <td>None</td>\n",
              "      <td>None</td>\n",
              "      <td>{'clientIp': '24.101.215.181', 'country': 'US'...</td>\n",
              "      <td>NaN</td>\n",
              "    </tr>\n",
              "    <tr>\n",
              "      <th>3</th>\n",
              "      <td>1655116245633</td>\n",
              "      <td>1</td>\n",
              "      <td>arn:aws:wafv2:us-east-1:962002622227:regional/...</td>\n",
              "      <td>WAF-ACL-Domain-Kiosk-Mobile</td>\n",
              "      <td>REGULAR</td>\n",
              "      <td>ALLOW</td>\n",
              "      <td>[]</td>\n",
              "      <td>ALB</td>\n",
              "      <td>962002622227-app/FortiWeb-ALB3/390b2ceea0584755</td>\n",
              "      <td>[]</td>\n",
              "      <td>[]</td>\n",
              "      <td>[]</td>\n",
              "      <td>None</td>\n",
              "      <td>None</td>\n",
              "      <td>{'clientIp': '66.220.98.206', 'country': 'US',...</td>\n",
              "      <td>NaN</td>\n",
              "    </tr>\n",
              "    <tr>\n",
              "      <th>4</th>\n",
              "      <td>1655116245564</td>\n",
              "      <td>1</td>\n",
              "      <td>arn:aws:wafv2:us-east-1:962002622227:regional/...</td>\n",
              "      <td>WAF-ACL-Domain-Kiosk-Mobile</td>\n",
              "      <td>REGULAR</td>\n",
              "      <td>ALLOW</td>\n",
              "      <td>[]</td>\n",
              "      <td>ALB</td>\n",
              "      <td>962002622227-app/FortiWeb-ALB3/390b2ceea0584755</td>\n",
              "      <td>[]</td>\n",
              "      <td>[]</td>\n",
              "      <td>[]</td>\n",
              "      <td>None</td>\n",
              "      <td>None</td>\n",
              "      <td>{'clientIp': '174.80.220.8', 'country': 'US', ...</td>\n",
              "      <td>NaN</td>\n",
              "    </tr>\n",
              "  </tbody>\n",
              "</table>\n",
              "</div>\n",
              "      <button class=\"colab-df-convert\" onclick=\"convertToInteractive('df-5ed1d9ef-db12-41bf-9fc5-cf9604e45686')\"\n",
              "              title=\"Convert this dataframe to an interactive table.\"\n",
              "              style=\"display:none;\">\n",
              "        \n",
              "  <svg xmlns=\"http://www.w3.org/2000/svg\" height=\"24px\"viewBox=\"0 0 24 24\"\n",
              "       width=\"24px\">\n",
              "    <path d=\"M0 0h24v24H0V0z\" fill=\"none\"/>\n",
              "    <path d=\"M18.56 5.44l.94 2.06.94-2.06 2.06-.94-2.06-.94-.94-2.06-.94 2.06-2.06.94zm-11 1L8.5 8.5l.94-2.06 2.06-.94-2.06-.94L8.5 2.5l-.94 2.06-2.06.94zm10 10l.94 2.06.94-2.06 2.06-.94-2.06-.94-.94-2.06-.94 2.06-2.06.94z\"/><path d=\"M17.41 7.96l-1.37-1.37c-.4-.4-.92-.59-1.43-.59-.52 0-1.04.2-1.43.59L10.3 9.45l-7.72 7.72c-.78.78-.78 2.05 0 2.83L4 21.41c.39.39.9.59 1.41.59.51 0 1.02-.2 1.41-.59l7.78-7.78 2.81-2.81c.8-.78.8-2.07 0-2.86zM5.41 20L4 18.59l7.72-7.72 1.47 1.35L5.41 20z\"/>\n",
              "  </svg>\n",
              "      </button>\n",
              "      \n",
              "  <style>\n",
              "    .colab-df-container {\n",
              "      display:flex;\n",
              "      flex-wrap:wrap;\n",
              "      gap: 12px;\n",
              "    }\n",
              "\n",
              "    .colab-df-convert {\n",
              "      background-color: #E8F0FE;\n",
              "      border: none;\n",
              "      border-radius: 50%;\n",
              "      cursor: pointer;\n",
              "      display: none;\n",
              "      fill: #1967D2;\n",
              "      height: 32px;\n",
              "      padding: 0 0 0 0;\n",
              "      width: 32px;\n",
              "    }\n",
              "\n",
              "    .colab-df-convert:hover {\n",
              "      background-color: #E2EBFA;\n",
              "      box-shadow: 0px 1px 2px rgba(60, 64, 67, 0.3), 0px 1px 3px 1px rgba(60, 64, 67, 0.15);\n",
              "      fill: #174EA6;\n",
              "    }\n",
              "\n",
              "    [theme=dark] .colab-df-convert {\n",
              "      background-color: #3B4455;\n",
              "      fill: #D2E3FC;\n",
              "    }\n",
              "\n",
              "    [theme=dark] .colab-df-convert:hover {\n",
              "      background-color: #434B5C;\n",
              "      box-shadow: 0px 1px 3px 1px rgba(0, 0, 0, 0.15);\n",
              "      filter: drop-shadow(0px 1px 2px rgba(0, 0, 0, 0.3));\n",
              "      fill: #FFFFFF;\n",
              "    }\n",
              "  </style>\n",
              "\n",
              "      <script>\n",
              "        const buttonEl =\n",
              "          document.querySelector('#df-5ed1d9ef-db12-41bf-9fc5-cf9604e45686 button.colab-df-convert');\n",
              "        buttonEl.style.display =\n",
              "          google.colab.kernel.accessAllowed ? 'block' : 'none';\n",
              "\n",
              "        async function convertToInteractive(key) {\n",
              "          const element = document.querySelector('#df-5ed1d9ef-db12-41bf-9fc5-cf9604e45686');\n",
              "          const dataTable =\n",
              "            await google.colab.kernel.invokeFunction('convertToInteractive',\n",
              "                                                     [key], {});\n",
              "          if (!dataTable) return;\n",
              "\n",
              "          const docLinkHtml = 'Like what you see? Visit the ' +\n",
              "            '<a target=\"_blank\" href=https://colab.research.google.com/notebooks/data_table.ipynb>data table notebook</a>'\n",
              "            + ' to learn more about interactive tables.';\n",
              "          element.innerHTML = '';\n",
              "          dataTable['output_type'] = 'display_data';\n",
              "          await google.colab.output.renderOutput(dataTable, element);\n",
              "          const docLink = document.createElement('div');\n",
              "          docLink.innerHTML = docLinkHtml;\n",
              "          element.appendChild(docLink);\n",
              "        }\n",
              "      </script>\n",
              "    </div>\n",
              "  </div>\n",
              "  "
            ]
          },
          "metadata": {},
          "execution_count": 52
        }
      ],
      "source": [
        "msgs.head()"
      ]
    },
    {
      "cell_type": "code",
      "execution_count": null,
      "metadata": {
        "colab": {
          "base_uri": "https://localhost:8080/"
        },
        "id": "z7sjlPG3Wemy",
        "outputId": "091c6ab2-d23d-4dd1-c5c6-751a401bcc48"
      },
      "outputs": [
        {
          "output_type": "stream",
          "name": "stdout",
          "text": [
            "timestamp <class 'numpy.int64'>\n",
            "formatVersion <class 'numpy.int64'>\n",
            "webaclId <class 'str'>\n",
            "terminatingRuleId <class 'str'>\n",
            "terminatingRuleType <class 'str'>\n",
            "action <class 'str'>\n",
            "terminatingRuleMatchDetails <class 'list'>\n",
            "httpSourceName <class 'str'>\n",
            "httpSourceId <class 'str'>\n",
            "ruleGroupList <class 'list'>\n",
            "rateBasedRuleList <class 'list'>\n",
            "nonTerminatingMatchingRules <class 'list'>\n",
            "requestHeadersInserted <class 'NoneType'>\n",
            "responseCodeSent <class 'NoneType'>\n",
            "httpRequest <class 'dict'>\n",
            "labels <class 'float'>\n"
          ]
        }
      ],
      "source": [
        "for column in msgs.columns :\n",
        "  print(column, type(msgs[column][0]))"
      ]
    },
    {
      "cell_type": "code",
      "execution_count": null,
      "metadata": {
        "colab": {
          "base_uri": "https://localhost:8080/",
          "height": 337
        },
        "id": "SvfnRBOCTWLK",
        "outputId": "60d942b2-4384-4494-ca81-3f6371b5bbb2"
      },
      "outputs": [
        {
          "output_type": "execute_result",
          "data": {
            "text/plain": [
              "         clientIp country                                            headers  \\\n",
              "0    66.25.248.39      US  [{'name': 'Host', 'value': 'ac1.lavusys.com'},...   \n",
              "1  97.121.173.253      US  [{'name': 'Host', 'value': 'ac1.lavusys.com'},...   \n",
              "2  24.101.215.181      US  [{'name': 'Host', 'value': 'ac1.lavusys.com'},...   \n",
              "3   66.220.98.206      US  [{'name': 'Host', 'value': 'autocloud.poslavu....   \n",
              "4    174.80.220.8      US  [{'name': 'Host', 'value': 'ac1.lavusys.com'},...   \n",
              "\n",
              "                     uri                                           args  \\\n",
              "0             /hello.php                              ZIG=2195&YIG=4967   \n",
              "1  /lib/json_connect.php  YIG=6204&PHPSESSID=v7kqnjvf3bgjvdkn029vdkqbm7   \n",
              "2  /lib/json_connect.php  YIG=4355&PHPSESSID=0lr71qc7pitfoid30q4mo6puv3   \n",
              "3  /lib/json_connect.php  YIG=2913&PHPSESSID=gjfrcok4bfltp8m9eaindfv2h1   \n",
              "4  /lib/json_connect.php  YIG=8206&PHPSESSID=0j09n400b0464rujvddu3lh9r7   \n",
              "\n",
              "  httpVersion httpMethod                            requestId  \n",
              "0    HTTP/1.1       POST  1-62a711d6-18252c85571b6d726d4cadb9  \n",
              "1    HTTP/1.1       POST  1-62a711d6-4dcb72b51b5a4b9230af229e  \n",
              "2    HTTP/1.1       POST  1-62a711d5-777e7c3e0ffc6f816c9798db  \n",
              "3    HTTP/1.1       POST  1-62a711d5-5a85acd04e7d27cc5217d5bb  \n",
              "4    HTTP/1.1       POST  1-62a711d5-1e9673f72ffe2f0f6e101510  "
            ],
            "text/html": [
              "\n",
              "  <div id=\"df-42ee54a1-f858-4fc9-8faa-5b9a3d35dc03\">\n",
              "    <div class=\"colab-df-container\">\n",
              "      <div>\n",
              "<style scoped>\n",
              "    .dataframe tbody tr th:only-of-type {\n",
              "        vertical-align: middle;\n",
              "    }\n",
              "\n",
              "    .dataframe tbody tr th {\n",
              "        vertical-align: top;\n",
              "    }\n",
              "\n",
              "    .dataframe thead th {\n",
              "        text-align: right;\n",
              "    }\n",
              "</style>\n",
              "<table border=\"1\" class=\"dataframe\">\n",
              "  <thead>\n",
              "    <tr style=\"text-align: right;\">\n",
              "      <th></th>\n",
              "      <th>clientIp</th>\n",
              "      <th>country</th>\n",
              "      <th>headers</th>\n",
              "      <th>uri</th>\n",
              "      <th>args</th>\n",
              "      <th>httpVersion</th>\n",
              "      <th>httpMethod</th>\n",
              "      <th>requestId</th>\n",
              "    </tr>\n",
              "  </thead>\n",
              "  <tbody>\n",
              "    <tr>\n",
              "      <th>0</th>\n",
              "      <td>66.25.248.39</td>\n",
              "      <td>US</td>\n",
              "      <td>[{'name': 'Host', 'value': 'ac1.lavusys.com'},...</td>\n",
              "      <td>/hello.php</td>\n",
              "      <td>ZIG=2195&amp;YIG=4967</td>\n",
              "      <td>HTTP/1.1</td>\n",
              "      <td>POST</td>\n",
              "      <td>1-62a711d6-18252c85571b6d726d4cadb9</td>\n",
              "    </tr>\n",
              "    <tr>\n",
              "      <th>1</th>\n",
              "      <td>97.121.173.253</td>\n",
              "      <td>US</td>\n",
              "      <td>[{'name': 'Host', 'value': 'ac1.lavusys.com'},...</td>\n",
              "      <td>/lib/json_connect.php</td>\n",
              "      <td>YIG=6204&amp;PHPSESSID=v7kqnjvf3bgjvdkn029vdkqbm7</td>\n",
              "      <td>HTTP/1.1</td>\n",
              "      <td>POST</td>\n",
              "      <td>1-62a711d6-4dcb72b51b5a4b9230af229e</td>\n",
              "    </tr>\n",
              "    <tr>\n",
              "      <th>2</th>\n",
              "      <td>24.101.215.181</td>\n",
              "      <td>US</td>\n",
              "      <td>[{'name': 'Host', 'value': 'ac1.lavusys.com'},...</td>\n",
              "      <td>/lib/json_connect.php</td>\n",
              "      <td>YIG=4355&amp;PHPSESSID=0lr71qc7pitfoid30q4mo6puv3</td>\n",
              "      <td>HTTP/1.1</td>\n",
              "      <td>POST</td>\n",
              "      <td>1-62a711d5-777e7c3e0ffc6f816c9798db</td>\n",
              "    </tr>\n",
              "    <tr>\n",
              "      <th>3</th>\n",
              "      <td>66.220.98.206</td>\n",
              "      <td>US</td>\n",
              "      <td>[{'name': 'Host', 'value': 'autocloud.poslavu....</td>\n",
              "      <td>/lib/json_connect.php</td>\n",
              "      <td>YIG=2913&amp;PHPSESSID=gjfrcok4bfltp8m9eaindfv2h1</td>\n",
              "      <td>HTTP/1.1</td>\n",
              "      <td>POST</td>\n",
              "      <td>1-62a711d5-5a85acd04e7d27cc5217d5bb</td>\n",
              "    </tr>\n",
              "    <tr>\n",
              "      <th>4</th>\n",
              "      <td>174.80.220.8</td>\n",
              "      <td>US</td>\n",
              "      <td>[{'name': 'Host', 'value': 'ac1.lavusys.com'},...</td>\n",
              "      <td>/lib/json_connect.php</td>\n",
              "      <td>YIG=8206&amp;PHPSESSID=0j09n400b0464rujvddu3lh9r7</td>\n",
              "      <td>HTTP/1.1</td>\n",
              "      <td>POST</td>\n",
              "      <td>1-62a711d5-1e9673f72ffe2f0f6e101510</td>\n",
              "    </tr>\n",
              "  </tbody>\n",
              "</table>\n",
              "</div>\n",
              "      <button class=\"colab-df-convert\" onclick=\"convertToInteractive('df-42ee54a1-f858-4fc9-8faa-5b9a3d35dc03')\"\n",
              "              title=\"Convert this dataframe to an interactive table.\"\n",
              "              style=\"display:none;\">\n",
              "        \n",
              "  <svg xmlns=\"http://www.w3.org/2000/svg\" height=\"24px\"viewBox=\"0 0 24 24\"\n",
              "       width=\"24px\">\n",
              "    <path d=\"M0 0h24v24H0V0z\" fill=\"none\"/>\n",
              "    <path d=\"M18.56 5.44l.94 2.06.94-2.06 2.06-.94-2.06-.94-.94-2.06-.94 2.06-2.06.94zm-11 1L8.5 8.5l.94-2.06 2.06-.94-2.06-.94L8.5 2.5l-.94 2.06-2.06.94zm10 10l.94 2.06.94-2.06 2.06-.94-2.06-.94-.94-2.06-.94 2.06-2.06.94z\"/><path d=\"M17.41 7.96l-1.37-1.37c-.4-.4-.92-.59-1.43-.59-.52 0-1.04.2-1.43.59L10.3 9.45l-7.72 7.72c-.78.78-.78 2.05 0 2.83L4 21.41c.39.39.9.59 1.41.59.51 0 1.02-.2 1.41-.59l7.78-7.78 2.81-2.81c.8-.78.8-2.07 0-2.86zM5.41 20L4 18.59l7.72-7.72 1.47 1.35L5.41 20z\"/>\n",
              "  </svg>\n",
              "      </button>\n",
              "      \n",
              "  <style>\n",
              "    .colab-df-container {\n",
              "      display:flex;\n",
              "      flex-wrap:wrap;\n",
              "      gap: 12px;\n",
              "    }\n",
              "\n",
              "    .colab-df-convert {\n",
              "      background-color: #E8F0FE;\n",
              "      border: none;\n",
              "      border-radius: 50%;\n",
              "      cursor: pointer;\n",
              "      display: none;\n",
              "      fill: #1967D2;\n",
              "      height: 32px;\n",
              "      padding: 0 0 0 0;\n",
              "      width: 32px;\n",
              "    }\n",
              "\n",
              "    .colab-df-convert:hover {\n",
              "      background-color: #E2EBFA;\n",
              "      box-shadow: 0px 1px 2px rgba(60, 64, 67, 0.3), 0px 1px 3px 1px rgba(60, 64, 67, 0.15);\n",
              "      fill: #174EA6;\n",
              "    }\n",
              "\n",
              "    [theme=dark] .colab-df-convert {\n",
              "      background-color: #3B4455;\n",
              "      fill: #D2E3FC;\n",
              "    }\n",
              "\n",
              "    [theme=dark] .colab-df-convert:hover {\n",
              "      background-color: #434B5C;\n",
              "      box-shadow: 0px 1px 3px 1px rgba(0, 0, 0, 0.15);\n",
              "      filter: drop-shadow(0px 1px 2px rgba(0, 0, 0, 0.3));\n",
              "      fill: #FFFFFF;\n",
              "    }\n",
              "  </style>\n",
              "\n",
              "      <script>\n",
              "        const buttonEl =\n",
              "          document.querySelector('#df-42ee54a1-f858-4fc9-8faa-5b9a3d35dc03 button.colab-df-convert');\n",
              "        buttonEl.style.display =\n",
              "          google.colab.kernel.accessAllowed ? 'block' : 'none';\n",
              "\n",
              "        async function convertToInteractive(key) {\n",
              "          const element = document.querySelector('#df-42ee54a1-f858-4fc9-8faa-5b9a3d35dc03');\n",
              "          const dataTable =\n",
              "            await google.colab.kernel.invokeFunction('convertToInteractive',\n",
              "                                                     [key], {});\n",
              "          if (!dataTable) return;\n",
              "\n",
              "          const docLinkHtml = 'Like what you see? Visit the ' +\n",
              "            '<a target=\"_blank\" href=https://colab.research.google.com/notebooks/data_table.ipynb>data table notebook</a>'\n",
              "            + ' to learn more about interactive tables.';\n",
              "          element.innerHTML = '';\n",
              "          dataTable['output_type'] = 'display_data';\n",
              "          await google.colab.output.renderOutput(dataTable, element);\n",
              "          const docLink = document.createElement('div');\n",
              "          docLink.innerHTML = docLinkHtml;\n",
              "          element.appendChild(docLink);\n",
              "        }\n",
              "      </script>\n",
              "    </div>\n",
              "  </div>\n",
              "  "
            ]
          },
          "metadata": {},
          "execution_count": 54
        }
      ],
      "source": [
        "httpRequest = pd.DataFrame(msgs['httpRequest'].tolist())\n",
        "httpRequest.head()"
      ]
    },
    {
      "cell_type": "code",
      "execution_count": null,
      "metadata": {
        "colab": {
          "base_uri": "https://localhost:8080/"
        },
        "id": "yEn1UCCEU14O",
        "outputId": "49650d43-712c-4edd-ac85-5d7f303de3cb"
      },
      "outputs": [
        {
          "output_type": "stream",
          "name": "stdout",
          "text": [
            "clientIp <class 'str'>\n",
            "country <class 'str'>\n",
            "headers <class 'list'>\n",
            "uri <class 'str'>\n",
            "args <class 'str'>\n",
            "httpVersion <class 'str'>\n",
            "httpMethod <class 'str'>\n",
            "requestId <class 'str'>\n"
          ]
        }
      ],
      "source": [
        "for column in httpRequest.columns :\n",
        "  print(column, type(httpRequest[column][0]))"
      ]
    },
    {
      "cell_type": "code",
      "execution_count": null,
      "metadata": {
        "colab": {
          "base_uri": "https://localhost:8080/"
        },
        "id": "QMr8tk9xXGGQ",
        "outputId": "cf6eaefc-fe4f-4983-f345-6fac52e71485"
      },
      "outputs": [
        {
          "output_type": "execute_result",
          "data": {
            "text/plain": [
              "[{'name': 'Host', 'value': 'ac1.lavusys.com'},\n",
              " {'name': 'Content-Type', 'value': 'application/x-www-form-urlencoded'},\n",
              " {'name': 'Cookie',\n",
              "  'value': 'PHPSESSID=reh9am64mhui87ohemu2hacft7; cookiesession1=678A3E0EMNOPQRSTU6789801234A6BD5'},\n",
              " {'name': 'User-Agent',\n",
              "  'value': 'Lavu%20POS/20220513 CFNetwork/1333.0.4 Darwin/21.5.0'},\n",
              " {'name': 'Connection', 'value': 'keep-alive'},\n",
              " {'name': 'Accept', 'value': '*/*'},\n",
              " {'name': 'Accept-Language', 'value': 'en-US,en;q=0.9'},\n",
              " {'name': 'Content-Length', 'value': '113'},\n",
              " {'name': 'Cache-Control', 'value': 'no-cache'},\n",
              " {'name': 'Accept-Encoding', 'value': 'gzip, deflate, br'}]"
            ]
          },
          "metadata": {},
          "execution_count": 56
        }
      ],
      "source": [
        "httpRequest['headers'][0] #list of dicts, one key-value pair per dict"
      ]
    },
    {
      "cell_type": "code",
      "execution_count": null,
      "metadata": {
        "id": "GQ3NbeHBcq3V"
      },
      "outputs": [],
      "source": [
        "#converting into 1 big dict containing all key-value pairs\n",
        "count = 0\n",
        "for eachList in httpRequest['headers'] :\n",
        "  newDict = {}\n",
        "  for eachDict in eachList :\n",
        "    newDict[eachDict['name']] = eachDict['value']\n",
        "  httpRequest.loc[count]['headers'] = newDict\n",
        "  count += 1"
      ]
    },
    {
      "cell_type": "code",
      "execution_count": null,
      "metadata": {
        "colab": {
          "base_uri": "https://localhost:8080/",
          "height": 508
        },
        "id": "Mu0B69L1ZlxT",
        "outputId": "6252ca13-98b9-40aa-9c0a-877d36efd9a3"
      },
      "outputs": [
        {
          "output_type": "execute_result",
          "data": {
            "text/plain": [
              "                    Host                       Content-Type  \\\n",
              "0        ac1.lavusys.com  application/x-www-form-urlencoded   \n",
              "1        ac1.lavusys.com  application/x-www-form-urlencoded   \n",
              "2        ac1.lavusys.com  application/x-www-form-urlencoded   \n",
              "3  autocloud.poslavu.com  application/x-www-form-urlencoded   \n",
              "4        ac1.lavusys.com  application/x-www-form-urlencoded   \n",
              "\n",
              "                                              Cookie  \\\n",
              "0  PHPSESSID=reh9am64mhui87ohemu2hacft7; cookiese...   \n",
              "1  PHPSESSID=v7kqnjvf3bgjvdkn029vdkqbm7; cookiese...   \n",
              "2  PHPSESSID=0lr71qc7pitfoid30q4mo6puv3; cookiese...   \n",
              "3  PHPSESSID=gjfrcok4bfltp8m9eaindfv2h1; cookiese...   \n",
              "4  PHPSESSID=0j09n400b0464rujvddu3lh9r7; cookiese...   \n",
              "\n",
              "                                          User-Agent  Connection Accept  \\\n",
              "0  Lavu%20POS/20220513 CFNetwork/1333.0.4 Darwin/...  keep-alive    */*   \n",
              "1  Lavu%20POS/20220513 CFNetwork/1331.0.7 Darwin/...  keep-alive    */*   \n",
              "2  Lavu%20POS/20220513 CFNetwork/1333.0.4 Darwin/...  keep-alive    */*   \n",
              "3  Lavu%20POS/20220513 CFNetwork/1333.0.4 Darwin/...  keep-alive    */*   \n",
              "4  Lavu%20POS/20220513 CFNetwork/1331.0.7 Darwin/...  keep-alive    */*   \n",
              "\n",
              "  Accept-Language Content-Length Cache-Control    Accept-Encoding  ...  \\\n",
              "0  en-US,en;q=0.9            113      no-cache  gzip, deflate, br  ...   \n",
              "1  en-US,en;q=0.9            295      no-cache  gzip, deflate, br  ...   \n",
              "2  en-US,en;q=0.9            399      no-cache  gzip, deflate, br  ...   \n",
              "3  en-US,en;q=0.9            410      no-cache      gzip, deflate  ...   \n",
              "4  en-US,en;q=0.9            351      no-cache  gzip, deflate, br  ...   \n",
              "\n",
              "  sec-fetch-dest accept-language X-Requested-With Content-type sensorid  \\\n",
              "0            NaN             NaN              NaN          NaN      NaN   \n",
              "1            NaN             NaN              NaN          NaN      NaN   \n",
              "2            NaN             NaN              NaN          NaN      NaN   \n",
              "3            NaN             NaN              NaN          NaN      NaN   \n",
              "4            NaN             NaN              NaN          NaN      NaN   \n",
              "\n",
              "  if-none-match if-modified-since Upgrade-Insecure-Requests Sec-WebSocket-Key  \\\n",
              "0           NaN               NaN                       NaN               NaN   \n",
              "1           NaN               NaN                       NaN               NaN   \n",
              "2           NaN               NaN                       NaN               NaN   \n",
              "3           NaN               NaN                       NaN               NaN   \n",
              "4           NaN               NaN                       NaN               NaN   \n",
              "\n",
              "  Sec-WebSocket-Version  \n",
              "0                   NaN  \n",
              "1                   NaN  \n",
              "2                   NaN  \n",
              "3                   NaN  \n",
              "4                   NaN  \n",
              "\n",
              "[5 rows x 57 columns]"
            ],
            "text/html": [
              "\n",
              "  <div id=\"df-6b32aad8-573a-47f7-a032-c9ba9b7e530c\">\n",
              "    <div class=\"colab-df-container\">\n",
              "      <div>\n",
              "<style scoped>\n",
              "    .dataframe tbody tr th:only-of-type {\n",
              "        vertical-align: middle;\n",
              "    }\n",
              "\n",
              "    .dataframe tbody tr th {\n",
              "        vertical-align: top;\n",
              "    }\n",
              "\n",
              "    .dataframe thead th {\n",
              "        text-align: right;\n",
              "    }\n",
              "</style>\n",
              "<table border=\"1\" class=\"dataframe\">\n",
              "  <thead>\n",
              "    <tr style=\"text-align: right;\">\n",
              "      <th></th>\n",
              "      <th>Host</th>\n",
              "      <th>Content-Type</th>\n",
              "      <th>Cookie</th>\n",
              "      <th>User-Agent</th>\n",
              "      <th>Connection</th>\n",
              "      <th>Accept</th>\n",
              "      <th>Accept-Language</th>\n",
              "      <th>Content-Length</th>\n",
              "      <th>Cache-Control</th>\n",
              "      <th>Accept-Encoding</th>\n",
              "      <th>...</th>\n",
              "      <th>sec-fetch-dest</th>\n",
              "      <th>accept-language</th>\n",
              "      <th>X-Requested-With</th>\n",
              "      <th>Content-type</th>\n",
              "      <th>sensorid</th>\n",
              "      <th>if-none-match</th>\n",
              "      <th>if-modified-since</th>\n",
              "      <th>Upgrade-Insecure-Requests</th>\n",
              "      <th>Sec-WebSocket-Key</th>\n",
              "      <th>Sec-WebSocket-Version</th>\n",
              "    </tr>\n",
              "  </thead>\n",
              "  <tbody>\n",
              "    <tr>\n",
              "      <th>0</th>\n",
              "      <td>ac1.lavusys.com</td>\n",
              "      <td>application/x-www-form-urlencoded</td>\n",
              "      <td>PHPSESSID=reh9am64mhui87ohemu2hacft7; cookiese...</td>\n",
              "      <td>Lavu%20POS/20220513 CFNetwork/1333.0.4 Darwin/...</td>\n",
              "      <td>keep-alive</td>\n",
              "      <td>*/*</td>\n",
              "      <td>en-US,en;q=0.9</td>\n",
              "      <td>113</td>\n",
              "      <td>no-cache</td>\n",
              "      <td>gzip, deflate, br</td>\n",
              "      <td>...</td>\n",
              "      <td>NaN</td>\n",
              "      <td>NaN</td>\n",
              "      <td>NaN</td>\n",
              "      <td>NaN</td>\n",
              "      <td>NaN</td>\n",
              "      <td>NaN</td>\n",
              "      <td>NaN</td>\n",
              "      <td>NaN</td>\n",
              "      <td>NaN</td>\n",
              "      <td>NaN</td>\n",
              "    </tr>\n",
              "    <tr>\n",
              "      <th>1</th>\n",
              "      <td>ac1.lavusys.com</td>\n",
              "      <td>application/x-www-form-urlencoded</td>\n",
              "      <td>PHPSESSID=v7kqnjvf3bgjvdkn029vdkqbm7; cookiese...</td>\n",
              "      <td>Lavu%20POS/20220513 CFNetwork/1331.0.7 Darwin/...</td>\n",
              "      <td>keep-alive</td>\n",
              "      <td>*/*</td>\n",
              "      <td>en-US,en;q=0.9</td>\n",
              "      <td>295</td>\n",
              "      <td>no-cache</td>\n",
              "      <td>gzip, deflate, br</td>\n",
              "      <td>...</td>\n",
              "      <td>NaN</td>\n",
              "      <td>NaN</td>\n",
              "      <td>NaN</td>\n",
              "      <td>NaN</td>\n",
              "      <td>NaN</td>\n",
              "      <td>NaN</td>\n",
              "      <td>NaN</td>\n",
              "      <td>NaN</td>\n",
              "      <td>NaN</td>\n",
              "      <td>NaN</td>\n",
              "    </tr>\n",
              "    <tr>\n",
              "      <th>2</th>\n",
              "      <td>ac1.lavusys.com</td>\n",
              "      <td>application/x-www-form-urlencoded</td>\n",
              "      <td>PHPSESSID=0lr71qc7pitfoid30q4mo6puv3; cookiese...</td>\n",
              "      <td>Lavu%20POS/20220513 CFNetwork/1333.0.4 Darwin/...</td>\n",
              "      <td>keep-alive</td>\n",
              "      <td>*/*</td>\n",
              "      <td>en-US,en;q=0.9</td>\n",
              "      <td>399</td>\n",
              "      <td>no-cache</td>\n",
              "      <td>gzip, deflate, br</td>\n",
              "      <td>...</td>\n",
              "      <td>NaN</td>\n",
              "      <td>NaN</td>\n",
              "      <td>NaN</td>\n",
              "      <td>NaN</td>\n",
              "      <td>NaN</td>\n",
              "      <td>NaN</td>\n",
              "      <td>NaN</td>\n",
              "      <td>NaN</td>\n",
              "      <td>NaN</td>\n",
              "      <td>NaN</td>\n",
              "    </tr>\n",
              "    <tr>\n",
              "      <th>3</th>\n",
              "      <td>autocloud.poslavu.com</td>\n",
              "      <td>application/x-www-form-urlencoded</td>\n",
              "      <td>PHPSESSID=gjfrcok4bfltp8m9eaindfv2h1; cookiese...</td>\n",
              "      <td>Lavu%20POS/20220513 CFNetwork/1333.0.4 Darwin/...</td>\n",
              "      <td>keep-alive</td>\n",
              "      <td>*/*</td>\n",
              "      <td>en-US,en;q=0.9</td>\n",
              "      <td>410</td>\n",
              "      <td>no-cache</td>\n",
              "      <td>gzip, deflate</td>\n",
              "      <td>...</td>\n",
              "      <td>NaN</td>\n",
              "      <td>NaN</td>\n",
              "      <td>NaN</td>\n",
              "      <td>NaN</td>\n",
              "      <td>NaN</td>\n",
              "      <td>NaN</td>\n",
              "      <td>NaN</td>\n",
              "      <td>NaN</td>\n",
              "      <td>NaN</td>\n",
              "      <td>NaN</td>\n",
              "    </tr>\n",
              "    <tr>\n",
              "      <th>4</th>\n",
              "      <td>ac1.lavusys.com</td>\n",
              "      <td>application/x-www-form-urlencoded</td>\n",
              "      <td>PHPSESSID=0j09n400b0464rujvddu3lh9r7; cookiese...</td>\n",
              "      <td>Lavu%20POS/20220513 CFNetwork/1331.0.7 Darwin/...</td>\n",
              "      <td>keep-alive</td>\n",
              "      <td>*/*</td>\n",
              "      <td>en-US,en;q=0.9</td>\n",
              "      <td>351</td>\n",
              "      <td>no-cache</td>\n",
              "      <td>gzip, deflate, br</td>\n",
              "      <td>...</td>\n",
              "      <td>NaN</td>\n",
              "      <td>NaN</td>\n",
              "      <td>NaN</td>\n",
              "      <td>NaN</td>\n",
              "      <td>NaN</td>\n",
              "      <td>NaN</td>\n",
              "      <td>NaN</td>\n",
              "      <td>NaN</td>\n",
              "      <td>NaN</td>\n",
              "      <td>NaN</td>\n",
              "    </tr>\n",
              "  </tbody>\n",
              "</table>\n",
              "<p>5 rows × 57 columns</p>\n",
              "</div>\n",
              "      <button class=\"colab-df-convert\" onclick=\"convertToInteractive('df-6b32aad8-573a-47f7-a032-c9ba9b7e530c')\"\n",
              "              title=\"Convert this dataframe to an interactive table.\"\n",
              "              style=\"display:none;\">\n",
              "        \n",
              "  <svg xmlns=\"http://www.w3.org/2000/svg\" height=\"24px\"viewBox=\"0 0 24 24\"\n",
              "       width=\"24px\">\n",
              "    <path d=\"M0 0h24v24H0V0z\" fill=\"none\"/>\n",
              "    <path d=\"M18.56 5.44l.94 2.06.94-2.06 2.06-.94-2.06-.94-.94-2.06-.94 2.06-2.06.94zm-11 1L8.5 8.5l.94-2.06 2.06-.94-2.06-.94L8.5 2.5l-.94 2.06-2.06.94zm10 10l.94 2.06.94-2.06 2.06-.94-2.06-.94-.94-2.06-.94 2.06-2.06.94z\"/><path d=\"M17.41 7.96l-1.37-1.37c-.4-.4-.92-.59-1.43-.59-.52 0-1.04.2-1.43.59L10.3 9.45l-7.72 7.72c-.78.78-.78 2.05 0 2.83L4 21.41c.39.39.9.59 1.41.59.51 0 1.02-.2 1.41-.59l7.78-7.78 2.81-2.81c.8-.78.8-2.07 0-2.86zM5.41 20L4 18.59l7.72-7.72 1.47 1.35L5.41 20z\"/>\n",
              "  </svg>\n",
              "      </button>\n",
              "      \n",
              "  <style>\n",
              "    .colab-df-container {\n",
              "      display:flex;\n",
              "      flex-wrap:wrap;\n",
              "      gap: 12px;\n",
              "    }\n",
              "\n",
              "    .colab-df-convert {\n",
              "      background-color: #E8F0FE;\n",
              "      border: none;\n",
              "      border-radius: 50%;\n",
              "      cursor: pointer;\n",
              "      display: none;\n",
              "      fill: #1967D2;\n",
              "      height: 32px;\n",
              "      padding: 0 0 0 0;\n",
              "      width: 32px;\n",
              "    }\n",
              "\n",
              "    .colab-df-convert:hover {\n",
              "      background-color: #E2EBFA;\n",
              "      box-shadow: 0px 1px 2px rgba(60, 64, 67, 0.3), 0px 1px 3px 1px rgba(60, 64, 67, 0.15);\n",
              "      fill: #174EA6;\n",
              "    }\n",
              "\n",
              "    [theme=dark] .colab-df-convert {\n",
              "      background-color: #3B4455;\n",
              "      fill: #D2E3FC;\n",
              "    }\n",
              "\n",
              "    [theme=dark] .colab-df-convert:hover {\n",
              "      background-color: #434B5C;\n",
              "      box-shadow: 0px 1px 3px 1px rgba(0, 0, 0, 0.15);\n",
              "      filter: drop-shadow(0px 1px 2px rgba(0, 0, 0, 0.3));\n",
              "      fill: #FFFFFF;\n",
              "    }\n",
              "  </style>\n",
              "\n",
              "      <script>\n",
              "        const buttonEl =\n",
              "          document.querySelector('#df-6b32aad8-573a-47f7-a032-c9ba9b7e530c button.colab-df-convert');\n",
              "        buttonEl.style.display =\n",
              "          google.colab.kernel.accessAllowed ? 'block' : 'none';\n",
              "\n",
              "        async function convertToInteractive(key) {\n",
              "          const element = document.querySelector('#df-6b32aad8-573a-47f7-a032-c9ba9b7e530c');\n",
              "          const dataTable =\n",
              "            await google.colab.kernel.invokeFunction('convertToInteractive',\n",
              "                                                     [key], {});\n",
              "          if (!dataTable) return;\n",
              "\n",
              "          const docLinkHtml = 'Like what you see? Visit the ' +\n",
              "            '<a target=\"_blank\" href=https://colab.research.google.com/notebooks/data_table.ipynb>data table notebook</a>'\n",
              "            + ' to learn more about interactive tables.';\n",
              "          element.innerHTML = '';\n",
              "          dataTable['output_type'] = 'display_data';\n",
              "          await google.colab.output.renderOutput(dataTable, element);\n",
              "          const docLink = document.createElement('div');\n",
              "          docLink.innerHTML = docLinkHtml;\n",
              "          element.appendChild(docLink);\n",
              "        }\n",
              "      </script>\n",
              "    </div>\n",
              "  </div>\n",
              "  "
            ]
          },
          "metadata": {},
          "execution_count": 58
        }
      ],
      "source": [
        "headers = pd.DataFrame(httpRequest['headers'].tolist())\n",
        "headers.head()"
      ]
    },
    {
      "cell_type": "code",
      "execution_count": null,
      "metadata": {
        "id": "4lF7zRA-vpW-"
      },
      "outputs": [],
      "source": [
        "logs = pd.concat([msgs,httpRequest,headers], axis=1) #concatenating the three dataframes"
      ]
    },
    {
      "cell_type": "code",
      "execution_count": null,
      "metadata": {
        "colab": {
          "base_uri": "https://localhost:8080/"
        },
        "id": "5mDw1gcyzUwO",
        "outputId": "c20d6ca0-a85d-4869-f78f-9c1f8e858139"
      },
      "outputs": [
        {
          "output_type": "execute_result",
          "data": {
            "text/plain": [
              "((10000, 16), (10000, 8), (10000, 57), (10000, 81))"
            ]
          },
          "metadata": {},
          "execution_count": 60
        }
      ],
      "source": [
        "msgs.shape, httpRequest.shape, headers.shape, logs.shape #column numbers add up"
      ]
    },
    {
      "cell_type": "code",
      "execution_count": null,
      "metadata": {
        "id": "elmkd5BzzvX8"
      },
      "outputs": [],
      "source": [
        "logs.drop(['headers', 'httpRequest'], axis = 1, inplace=True)"
      ]
    },
    {
      "cell_type": "code",
      "execution_count": null,
      "metadata": {
        "colab": {
          "base_uri": "https://localhost:8080/"
        },
        "id": "EWb1QTdU0d1c",
        "outputId": "51c90e10-e355-494e-f199-42576ca98232"
      },
      "outputs": [
        {
          "output_type": "stream",
          "name": "stdout",
          "text": [
            "<class 'pandas.core.frame.DataFrame'>\n",
            "RangeIndex: 10000 entries, 0 to 9999\n",
            "Data columns (total 79 columns):\n",
            " #   Column                       Non-Null Count  Dtype \n",
            "---  ------                       --------------  ----- \n",
            " 0   timestamp                    10000 non-null  int64 \n",
            " 1   formatVersion                10000 non-null  int64 \n",
            " 2   webaclId                     10000 non-null  object\n",
            " 3   terminatingRuleId            10000 non-null  object\n",
            " 4   terminatingRuleType          10000 non-null  object\n",
            " 5   action                       10000 non-null  object\n",
            " 6   terminatingRuleMatchDetails  10000 non-null  object\n",
            " 7   httpSourceName               10000 non-null  object\n",
            " 8   httpSourceId                 10000 non-null  object\n",
            " 9   ruleGroupList                10000 non-null  object\n",
            " 10  rateBasedRuleList            10000 non-null  object\n",
            " 11  nonTerminatingMatchingRules  10000 non-null  object\n",
            " 12  requestHeadersInserted       0 non-null      object\n",
            " 13  responseCodeSent             0 non-null      object\n",
            " 14  labels                       8 non-null      object\n",
            " 15  clientIp                     10000 non-null  object\n",
            " 16  country                      10000 non-null  object\n",
            " 17  uri                          10000 non-null  object\n",
            " 18  args                         10000 non-null  object\n",
            " 19  httpVersion                  10000 non-null  object\n",
            " 20  httpMethod                   10000 non-null  object\n",
            " 21  requestId                    10000 non-null  object\n",
            " 22  Host                         9812 non-null   object\n",
            " 23  Content-Type                 9631 non-null   object\n",
            " 24  Cookie                       9267 non-null   object\n",
            " 25  User-Agent                   9742 non-null   object\n",
            " 26  Connection                   9636 non-null   object\n",
            " 27  Accept                       9667 non-null   object\n",
            " 28  Accept-Language              9566 non-null   object\n",
            " 29  Content-Length               9639 non-null   object\n",
            " 30  Cache-Control                7787 non-null   object\n",
            " 31  Accept-Encoding              9400 non-null   object\n",
            " 32  Expect                       42 non-null     object\n",
            " 33  Pragma                       387 non-null    object\n",
            " 34  Upgrade                      83 non-null     object\n",
            " 35  Via                          115 non-null    object\n",
            " 36  X-Forwarded-For              82 non-null     object\n",
            " 37  X-Amz-Cf-Id                  82 non-null     object\n",
            " 38  Sec-Websocket-Version        82 non-null     object\n",
            " 39  Origin                       98 non-null     object\n",
            " 40  Sec-Websocket-Protocol       82 non-null     object\n",
            " 41  Sec-Websocket-Extensions     82 non-null     object\n",
            " 42  Sec-Websocket-Key            82 non-null     object\n",
            " 43  Sec-Fetch-Dest               9 non-null      object\n",
            " 44  Sec-Fetch-Mode               9 non-null      object\n",
            " 45  Sec-Fetch-Site               9 non-null      object\n",
            " 46  X-Lavu-CF-Token              82 non-null     object\n",
            " 47  host                         188 non-null    object\n",
            " 48  accept                       118 non-null    object\n",
            " 49  content-length               86 non-null     object\n",
            " 50  content-type                 86 non-null     object\n",
            " 51  X-Abuse-Info                 10 non-null     object\n",
            " 52  X-NewRelic-Synthetics        10 non-null     object\n",
            " 53  DNT                          10 non-null     object\n",
            " 54  authorization                65 non-null     object\n",
            " 55  referer                      96 non-null     object\n",
            " 56  accept-encoding              145 non-null    object\n",
            " 57  user-agent                   143 non-null    object\n",
            " 58  Accept-Charset               2 non-null      object\n",
            " 59  cache-control                13 non-null     object\n",
            " 60  Referer                      54 non-null     object\n",
            " 61  cookie                       81 non-null     object\n",
            " 62  sec-ch-ua                    36 non-null     object\n",
            " 63  x-requested-with             36 non-null     object\n",
            " 64  sec-ch-ua-mobile             36 non-null     object\n",
            " 65  sec-ch-ua-platform           36 non-null     object\n",
            " 66  origin                       39 non-null     object\n",
            " 67  sec-fetch-site               36 non-null     object\n",
            " 68  sec-fetch-mode               36 non-null     object\n",
            " 69  sec-fetch-dest               36 non-null     object\n",
            " 70  accept-language              80 non-null     object\n",
            " 71  X-Requested-With             7 non-null      object\n",
            " 72  Content-type                 8 non-null      object\n",
            " 73  sensorid                     1 non-null      object\n",
            " 74  if-none-match                11 non-null     object\n",
            " 75  if-modified-since            9 non-null      object\n",
            " 76  Upgrade-Insecure-Requests    3 non-null      object\n",
            " 77  Sec-WebSocket-Key            1 non-null      object\n",
            " 78  Sec-WebSocket-Version        1 non-null      object\n",
            "dtypes: int64(2), object(77)\n",
            "memory usage: 6.0+ MB\n"
          ]
        }
      ],
      "source": [
        "logs.info()"
      ]
    },
    {
      "cell_type": "code",
      "execution_count": null,
      "metadata": {
        "id": "ZqNyNEhjBeeQ"
      },
      "outputs": [],
      "source": [
        "logs.drop(['requestHeadersInserted', 'responseCodeSent'], axis = 1, inplace=True) #dropping the 2 all-null columns"
      ]
    },
    {
      "cell_type": "code",
      "execution_count": null,
      "metadata": {
        "colab": {
          "base_uri": "https://localhost:8080/"
        },
        "id": "jVS4GPkr5J3h",
        "outputId": "069805ad-d229-4010-90b4-e93f98a11e09"
      },
      "outputs": [
        {
          "output_type": "execute_result",
          "data": {
            "text/plain": [
              "[('Host', 'host'),\n",
              " ('Content-Type', 'content-type'),\n",
              " ('Content-Type', 'Content-type'),\n",
              " ('Cookie', 'cookie'),\n",
              " ('User-Agent', 'user-agent'),\n",
              " ('Accept', 'accept'),\n",
              " ('Accept-Language', 'accept-language'),\n",
              " ('Content-Length', 'content-length'),\n",
              " ('Cache-Control', 'cache-control'),\n",
              " ('Accept-Encoding', 'accept-encoding'),\n",
              " ('Sec-Websocket-Version', 'Sec-WebSocket-Version'),\n",
              " ('Origin', 'origin'),\n",
              " ('Sec-Websocket-Key', 'Sec-WebSocket-Key'),\n",
              " ('Sec-Fetch-Dest', 'sec-fetch-dest'),\n",
              " ('Sec-Fetch-Mode', 'sec-fetch-mode'),\n",
              " ('Sec-Fetch-Site', 'sec-fetch-site'),\n",
              " ('content-type', 'Content-type'),\n",
              " ('referer', 'Referer'),\n",
              " ('x-requested-with', 'X-Requested-With')]"
            ]
          },
          "metadata": {},
          "execution_count": 64
        }
      ],
      "source": [
        "#creating an array of tuples (correct colName, duplicate colName)\n",
        "duplicates = []\n",
        "for i in range(len(logs.columns)) :\n",
        "  for j in range(i+1, len(logs.columns)) :\n",
        "    if logs.columns[i].casefold() == logs.columns[j].casefold() : #checking case-insensitive equality\n",
        "      duplicates.append((logs.columns[i], logs.columns[j]))\n",
        "duplicates"
      ]
    },
    {
      "cell_type": "code",
      "execution_count": null,
      "metadata": {
        "id": "CLEMSc0YM1ED"
      },
      "outputs": [],
      "source": [
        "for orig, shadow in duplicates : #orig = correct colName, shadow = duplicate colName\n",
        "  logs[orig] = np.where(logs[orig].isna(), logs[shadow], logs[orig]) #if origValue == null then replace with shadowValue, else maintain origValue"
      ]
    },
    {
      "cell_type": "code",
      "execution_count": null,
      "metadata": {
        "id": "ovf0WUiwSCOt"
      },
      "outputs": [],
      "source": [
        "logs.drop([shadow for orig, shadow in duplicates], axis = 1, inplace=True) #dropping the shadow columns"
      ]
    },
    {
      "cell_type": "code",
      "source": [
        "for col in logs.columns :\n",
        "  if logs[col].isna().sum() > 50/100 * len(logs[col]) :\n",
        "    logs.drop([col], axis=1, inplace=True)"
      ],
      "metadata": {
        "id": "TUfGpNiDfYvl"
      },
      "execution_count": null,
      "outputs": []
    },
    {
      "cell_type": "code",
      "execution_count": null,
      "metadata": {
        "colab": {
          "base_uri": "https://localhost:8080/"
        },
        "id": "b7JjCHtsSSu0",
        "outputId": "078b4958-5a79-4af6-e7d7-f75707b0b739"
      },
      "outputs": [
        {
          "output_type": "stream",
          "name": "stdout",
          "text": [
            "timestamp <class 'numpy.int64'>\n",
            "formatVersion <class 'numpy.int64'>\n",
            "webaclId <class 'str'>\n",
            "terminatingRuleId <class 'str'>\n",
            "terminatingRuleType <class 'str'>\n",
            "action <class 'str'>\n",
            "terminatingRuleMatchDetails <class 'list'>\n",
            "httpSourceName <class 'str'>\n",
            "httpSourceId <class 'str'>\n",
            "ruleGroupList <class 'list'>\n",
            "rateBasedRuleList <class 'list'>\n",
            "nonTerminatingMatchingRules <class 'list'>\n",
            "clientIp <class 'str'>\n",
            "country <class 'str'>\n",
            "uri <class 'str'>\n",
            "args <class 'str'>\n",
            "httpVersion <class 'str'>\n",
            "httpMethod <class 'str'>\n",
            "requestId <class 'str'>\n",
            "Host <class 'str'>\n",
            "Content-Type <class 'str'>\n",
            "Cookie <class 'str'>\n",
            "User-Agent <class 'str'>\n",
            "Connection <class 'str'>\n",
            "Accept <class 'str'>\n",
            "Accept-Language <class 'str'>\n",
            "Content-Length <class 'str'>\n",
            "Cache-Control <class 'str'>\n",
            "Accept-Encoding <class 'str'>\n"
          ]
        }
      ],
      "source": [
        "for column in logs.columns :\n",
        "  print(column, type(logs[column][0]))"
      ]
    },
    {
      "cell_type": "code",
      "source": [
        "listCols = [col for col in logs.columns if type(logs[col][0]) == list]\n",
        "listCols"
      ],
      "metadata": {
        "colab": {
          "base_uri": "https://localhost:8080/"
        },
        "id": "xPmthH4QjCsV",
        "outputId": "12d20e4f-6a41-4258-a8e5-bfb940e6eb4c"
      },
      "execution_count": null,
      "outputs": [
        {
          "output_type": "execute_result",
          "data": {
            "text/plain": [
              "['terminatingRuleMatchDetails',\n",
              " 'ruleGroupList',\n",
              " 'rateBasedRuleList',\n",
              " 'nonTerminatingMatchingRules']"
            ]
          },
          "metadata": {},
          "execution_count": 69
        }
      ]
    },
    {
      "cell_type": "code",
      "source": [
        "#dropping 'terminatingRuleMatchDetails' and 'nonTerminatingMatchingRules'\n",
        "for listCol in listCols :\n",
        "  count = 0\n",
        "  for entry in logs[listCol].values :\n",
        "    if len(entry) == 0 :\n",
        "      count += 1\n",
        "  print(count, len(logs[listCol]))\n",
        "  if (count == len(logs[listCol])) :\n",
        "    logs.drop([listCol], axis=1, inplace=True)"
      ],
      "metadata": {
        "colab": {
          "base_uri": "https://localhost:8080/"
        },
        "id": "WUYc5xS4iJJ_",
        "outputId": "3a114dfe-bd0b-4ac7-a40b-e49fd098d7c6"
      },
      "execution_count": null,
      "outputs": [
        {
          "output_type": "stream",
          "name": "stdout",
          "text": [
            "10000 10000\n",
            "9882 10000\n",
            "9882 10000\n",
            "10000 10000\n"
          ]
        }
      ]
    },
    {
      "cell_type": "code",
      "source": [
        "10000 - 9882\n",
        "# this is less than 50% of the length anyway, so we'll drop these too\n",
        "logs.drop(['ruleGroupList', 'rateBasedRuleList'], axis=1, inplace=True)"
      ],
      "metadata": {
        "id": "cSl8FeDSlbqh"
      },
      "execution_count": null,
      "outputs": []
    },
    {
      "cell_type": "code",
      "source": [
        "logs.info()"
      ],
      "metadata": {
        "colab": {
          "base_uri": "https://localhost:8080/"
        },
        "id": "dY66S3dlvbiw",
        "outputId": "873aaf8c-cb0c-4e98-ac98-4b0a903f0023"
      },
      "execution_count": null,
      "outputs": [
        {
          "output_type": "stream",
          "name": "stdout",
          "text": [
            "<class 'pandas.core.frame.DataFrame'>\n",
            "RangeIndex: 10000 entries, 0 to 9999\n",
            "Data columns (total 25 columns):\n",
            " #   Column               Non-Null Count  Dtype \n",
            "---  ------               --------------  ----- \n",
            " 0   timestamp            10000 non-null  int64 \n",
            " 1   formatVersion        10000 non-null  int64 \n",
            " 2   webaclId             10000 non-null  object\n",
            " 3   terminatingRuleId    10000 non-null  object\n",
            " 4   terminatingRuleType  10000 non-null  object\n",
            " 5   action               10000 non-null  object\n",
            " 6   httpSourceName       10000 non-null  object\n",
            " 7   httpSourceId         10000 non-null  object\n",
            " 8   clientIp             10000 non-null  object\n",
            " 9   country              10000 non-null  object\n",
            " 10  uri                  10000 non-null  object\n",
            " 11  args                 10000 non-null  object\n",
            " 12  httpVersion          10000 non-null  object\n",
            " 13  httpMethod           10000 non-null  object\n",
            " 14  requestId            10000 non-null  object\n",
            " 15  Host                 10000 non-null  object\n",
            " 16  Content-Type         9725 non-null   object\n",
            " 17  Cookie               9348 non-null   object\n",
            " 18  User-Agent           9885 non-null   object\n",
            " 19  Connection           9636 non-null   object\n",
            " 20  Accept               9785 non-null   object\n",
            " 21  Accept-Language      9646 non-null   object\n",
            " 22  Content-Length       9725 non-null   object\n",
            " 23  Cache-Control        7800 non-null   object\n",
            " 24  Accept-Encoding      9545 non-null   object\n",
            "dtypes: int64(2), object(23)\n",
            "memory usage: 1.9+ MB\n"
          ]
        }
      ]
    },
    {
      "cell_type": "code",
      "source": [
        "logs = logs.apply(lambda x: x.fillna(x.value_counts().index[0]))"
      ],
      "metadata": {
        "id": "KQDle9QovSiB"
      },
      "execution_count": null,
      "outputs": []
    },
    {
      "cell_type": "markdown",
      "source": [
        "## **Phase 2 - Preprocessing**"
      ],
      "metadata": {
        "id": "nrcdHhWJh-rD"
      }
    },
    {
      "cell_type": "code",
      "source": [
        "from sklearn.preprocessing import OneHotEncoder"
      ],
      "metadata": {
        "id": "FVjmF0LFKCAD"
      },
      "execution_count": null,
      "outputs": []
    },
    {
      "cell_type": "code",
      "source": [
        "ohe = OneHotEncoder(handle_unknown='ignore')\n",
        "for col in logs.columns :\n",
        "  encoded = pd.DataFrame(ohe.fit_transform(logs[[col]]).toarray())\n",
        "  encoded.columns = logs[col].unique()\n",
        "  logs = logs.join(encoded)\n",
        "  logs.drop([col], axis=1, inplace=True)"
      ],
      "metadata": {
        "id": "t_paX2cqKXPZ"
      },
      "execution_count": null,
      "outputs": []
    },
    {
      "cell_type": "code",
      "source": [
        "logs.info()"
      ],
      "metadata": {
        "colab": {
          "base_uri": "https://localhost:8080/"
        },
        "id": "zjNu0Zn4jilM",
        "outputId": "b9af89d4-3379-4f57-9190-c879ac6c36bd"
      },
      "execution_count": null,
      "outputs": [
        {
          "output_type": "stream",
          "name": "stdout",
          "text": [
            "<class 'pandas.core.frame.DataFrame'>\n",
            "RangeIndex: 10000 entries, 0 to 9999\n",
            "Columns: 34225 entries, 1655116246911 to identity\n",
            "dtypes: float64(34225)\n",
            "memory usage: 2.5 GB\n"
          ]
        }
      ]
    },
    {
      "cell_type": "markdown",
      "source": [
        "## **Phase 3 - Feature Selection**"
      ],
      "metadata": {
        "id": "Y19r-XlAaWaH"
      }
    },
    {
      "cell_type": "code",
      "source": [
        "from sklearn.preprocessing import StandardScaler"
      ],
      "metadata": {
        "id": "qx65UfDsRjaV"
      },
      "execution_count": null,
      "outputs": []
    },
    {
      "cell_type": "code",
      "source": [
        "logs = StandardScaler().fit_transform(logs)"
      ],
      "metadata": {
        "colab": {
          "base_uri": "https://localhost:8080/"
        },
        "id": "R3FiLdd-RoeM",
        "outputId": "beda61db-bfc6-44b3-ef35-e23d81dacd7b"
      },
      "execution_count": null,
      "outputs": [
        {
          "output_type": "stream",
          "name": "stderr",
          "text": [
            "/usr/local/lib/python3.7/dist-packages/sklearn/utils/validation.py:1692: FutureWarning: Feature names only support names that are all strings. Got feature names with dtypes: ['int', 'str']. An error will be raised in 1.2.\n",
            "  FutureWarning,\n",
            "/usr/local/lib/python3.7/dist-packages/sklearn/utils/validation.py:1692: FutureWarning: Feature names only support names that are all strings. Got feature names with dtypes: ['int', 'str']. An error will be raised in 1.2.\n",
            "  FutureWarning,\n"
          ]
        }
      ]
    },
    {
      "cell_type": "code",
      "source": [
        "import matplotlib.pyplot as plt\n",
        "import seaborn as sns"
      ],
      "metadata": {
        "id": "9rZvuirolAwe"
      },
      "execution_count": null,
      "outputs": []
    },
    {
      "cell_type": "code",
      "source": [
        "from sklearn.decomposition import PCA\n",
        "from sklearn.cluster import KMeans"
      ],
      "metadata": {
        "id": "b4A6eky0dSxs"
      },
      "execution_count": null,
      "outputs": []
    },
    {
      "cell_type": "code",
      "source": [
        "wcss = []\n",
        "pca = PCA(n_components=2)\n",
        "principalComponents = pca.fit_transform(logs)"
      ],
      "metadata": {
        "id": "-DMBRwlDdd9I"
      },
      "execution_count": null,
      "outputs": []
    },
    {
      "cell_type": "code",
      "source": [
        "features = range(pca.n_components_)\n",
        "plt.bar(features, pca.explained_variance_ratio_, color='black')\n",
        "plt.xlabel('PCA features')\n",
        "plt.ylabel('variance %')\n",
        "plt.xticks(features)"
      ],
      "metadata": {
        "colab": {
          "base_uri": "https://localhost:8080/",
          "height": 331
        },
        "id": "OfCQ8ohyP04J",
        "outputId": "dc48ec1f-e06f-4f00-de49-f48ed65d62f8"
      },
      "execution_count": null,
      "outputs": [
        {
          "output_type": "execute_result",
          "data": {
            "text/plain": [
              "([<matplotlib.axis.XTick at 0x7fa04b43cd10>,\n",
              "  <matplotlib.axis.XTick at 0x7fa04b43c7d0>],\n",
              " <a list of 2 Text major ticklabel objects>)"
            ]
          },
          "metadata": {},
          "execution_count": 82
        },
        {
          "output_type": "display_data",
          "data": {
            "text/plain": [
              "<Figure size 432x288 with 1 Axes>"
            ],
            "image/png": "[encoded data removed]"
          },
          "metadata": {
            "needs_background": "light"
          }
        }
      ]
    },
    {
      "cell_type": "code",
      "source": [
        "pcaComponents = pd.DataFrame(principalComponents)"
      ],
      "metadata": {
        "id": "lMiQPM4GP_iQ"
      },
      "execution_count": null,
      "outputs": []
    },
    {
      "cell_type": "code",
      "source": [
        "plt.scatter(pcaComponents[0], pcaComponents[1], alpha=.6, color='black')\n",
        "plt.xlabel('PCA 1')\n",
        "plt.ylabel('PCA 2')"
      ],
      "metadata": {
        "colab": {
          "base_uri": "https://localhost:8080/",
          "height": 296
        },
        "id": "t4CmEn-JQVzi",
        "outputId": "25d58691-21a6-40b6-8591-0ccfb9e21e81"
      },
      "execution_count": null,
      "outputs": [
        {
          "output_type": "execute_result",
          "data": {
            "text/plain": [
              "Text(0, 0.5, 'PCA 2')"
            ]
          },
          "metadata": {},
          "execution_count": 84
        },
        {
          "output_type": "display_data",
          "data": {
            "text/plain": [
              "<Figure size 432x288 with 1 Axes>"
            ],
            "image/png": "[encoded data removed]"
          },
          "metadata": {
            "needs_background": "light"
          }
        }
      ]
    },
    {
      "cell_type": "code",
      "source": [
        "for i in range(1, 5) :\n",
        "  kmeans = KMeans(n_clusters=i, init ='k-means++', max_iter=300,  n_init=10,random_state=0 ).fit(principalComponents)\n",
        "  wcss.append(kmeans.inertia_)"
      ],
      "metadata": {
        "id": "8eIU_OHePrt2"
      },
      "execution_count": null,
      "outputs": []
    },
    {
      "cell_type": "code",
      "source": [
        "kmeans.cluster_centers_"
      ],
      "metadata": {
        "colab": {
          "base_uri": "https://localhost:8080/"
        },
        "id": "cPoZTll0dvWG",
        "outputId": "a015f63c-25ec-4121-abbc-b04624e20f3f"
      },
      "execution_count": null,
      "outputs": [
        {
          "output_type": "execute_result",
          "data": {
            "text/plain": [
              "array([[-0.85896233,  0.71189831],\n",
              "       [ 6.39578395, -9.88822616],\n",
              "       [70.37116111, 56.48963226],\n",
              "       [11.29289568, -6.32002302]])"
            ]
          },
          "metadata": {},
          "execution_count": 86
        }
      ]
    },
    {
      "cell_type": "code",
      "source": [
        "plt.plot(range(1,5), wcss, '-o', color='black')\n",
        "plt.title('The Elbow Method Graph')\n",
        "plt.xlabel('Number of clusters')\n",
        "plt.ylabel('WCSS')\n",
        "plt.show()"
      ],
      "metadata": {
        "colab": {
          "base_uri": "https://localhost:8080/",
          "height": 295
        },
        "id": "xCaWTCqojlw3",
        "outputId": "a8993877-6f55-454a-cbac-0bb3eda0616b"
      },
      "execution_count": null,
      "outputs": [
        {
          "output_type": "display_data",
          "data": {
            "text/plain": [
              "<Figure size 432x288 with 1 Axes>"
            ],
            "image/png": "[encoded data removed]"
          },
          "metadata": {
            "needs_background": "light"
          }
        }
      ]
    },
    {
      "cell_type": "code",
      "source": [
        "kmeans = KMeans(n_clusters=3, init ='k-means++', max_iter=300, n_init=10,random_state=0)"
      ],
      "metadata": {
        "id": "0YI8Po_C3q4L"
      },
      "execution_count": null,
      "outputs": []
    },
    {
      "cell_type": "code",
      "source": [
        "label = kmeans.fit_predict(principalComponents)"
      ],
      "metadata": {
        "id": "VMHctDmPE3QQ"
      },
      "execution_count": null,
      "outputs": []
    },
    {
      "cell_type": "code",
      "source": [
        "plt.scatter(principalComponents[label==0, 0], principalComponents[label==0, 1], c='crimson', label ='Cluster 0')\n",
        "plt.scatter(principalComponents[label==1, 0], principalComponents[label==1, 1], c='orange', label ='Cluster 1')\n",
        "plt.scatter(principalComponents[label==2, 0], principalComponents[label==2, 1], c='lightcoral', label ='Cluster 2')\n",
        "plt.scatter(kmeans.cluster_centers_[:3, 0], kmeans.cluster_centers_[:3, 1], c='black', marker='x', label = 'Centroids')\n",
        "plt.title('Clusters of Logs')\n",
        "plt.show()"
      ],
      "metadata": {
        "colab": {
          "base_uri": "https://localhost:8080/",
          "height": 281
        },
        "id": "RJVkoeAKFAkX",
        "outputId": "87d6f838-1c38-4e87-fcac-b9cedd4a936d"
      },
      "execution_count": null,
      "outputs": [
        {
          "output_type": "display_data",
          "data": {
            "text/plain": [
              "<Figure size 432x288 with 1 Axes>"
            ],
            "image/png": "[encoded data removed]"
          },
          "metadata": {
            "needs_background": "light"
          }
        }
      ]
    },
    {
      "cell_type": "code",
      "source": [
        "clusterMap = pd.DataFrame()\n",
        "clusterMap['log'] = df['@message']\n",
        "clusterMap['cluster'] = kmeans.labels_"
      ],
      "metadata": {
        "id": "qjsCHYN8F0m3"
      },
      "execution_count": null,
      "outputs": []
    },
    {
      "cell_type": "code",
      "source": [
        "clusterMap[clusterMap.cluster == 1]"
      ],
      "metadata": {
        "colab": {
          "base_uri": "https://localhost:8080/",
          "height": 551
        },
        "id": "Gy4gxJMwIcVH",
        "outputId": "f862c484-0540-4d91-e28b-fa161fa3686f"
      },
      "execution_count": null,
      "outputs": [
        {
          "output_type": "execute_result",
          "data": {
            "text/plain": [
              "                                                    log  cluster\n",
              "26    {\"timestamp\":1655116234810,\"formatVersion\":1,\"...        1\n",
              "5053  {\"timestamp\":1655116153670,\"formatVersion\":1,\"...        1\n",
              "5054  {\"timestamp\":1655116153669,\"formatVersion\":1,\"...        1\n",
              "5148  {\"timestamp\":1655116153131,\"formatVersion\":1,\"...        1\n",
              "5163  {\"timestamp\":1655116153045,\"formatVersion\":1,\"...        1\n",
              "5166  {\"timestamp\":1655116153025,\"formatVersion\":1,\"...        1\n",
              "5167  {\"timestamp\":1655116153024,\"formatVersion\":1,\"...        1\n",
              "5168  {\"timestamp\":1655116153023,\"formatVersion\":1,\"...        1\n",
              "5169  {\"timestamp\":1655116153021,\"formatVersion\":1,\"...        1\n",
              "5170  {\"timestamp\":1655116152997,\"formatVersion\":1,\"...        1\n",
              "6198  {\"timestamp\":1655116144249,\"formatVersion\":1,\"...        1\n",
              "9194  {\"timestamp\":1655116127086,\"formatVersion\":1,\"...        1\n",
              "9220  {\"timestamp\":1655116126979,\"formatVersion\":1,\"...        1\n",
              "9221  {\"timestamp\":1655116126979,\"formatVersion\":1,\"...        1\n",
              "9222  {\"timestamp\":1655116126979,\"formatVersion\":1,\"...        1\n",
              "9255  {\"timestamp\":1655116126817,\"formatVersion\":1,\"...        1"
            ],
            "text/html": [
              "\n",
              "  <div id=\"df-19cb81db-8a0e-45fa-8508-ae9549fc42fb\">\n",
              "    <div class=\"colab-df-container\">\n",
              "      <div>\n",
              "<style scoped>\n",
              "    .dataframe tbody tr th:only-of-type {\n",
              "        vertical-align: middle;\n",
              "    }\n",
              "\n",
              "    .dataframe tbody tr th {\n",
              "        vertical-align: top;\n",
              "    }\n",
              "\n",
              "    .dataframe thead th {\n",
              "        text-align: right;\n",
              "    }\n",
              "</style>\n",
              "<table border=\"1\" class=\"dataframe\">\n",
              "  <thead>\n",
              "    <tr style=\"text-align: right;\">\n",
              "      <th></th>\n",
              "      <th>log</th>\n",
              "      <th>cluster</th>\n",
              "    </tr>\n",
              "  </thead>\n",
              "  <tbody>\n",
              "    <tr>\n",
              "      <th>26</th>\n",
              "      <td>{\"timestamp\":1655116234810,\"formatVersion\":1,\"...</td>\n",
              "      <td>1</td>\n",
              "    </tr>\n",
              "    <tr>\n",
              "      <th>5053</th>\n",
              "      <td>{\"timestamp\":1655116153670,\"formatVersion\":1,\"...</td>\n",
              "      <td>1</td>\n",
              "    </tr>\n",
              "    <tr>\n",
              "      <th>5054</th>\n",
              "      <td>{\"timestamp\":1655116153669,\"formatVersion\":1,\"...</td>\n",
              "      <td>1</td>\n",
              "    </tr>\n",
              "    <tr>\n",
              "      <th>5148</th>\n",
              "      <td>{\"timestamp\":1655116153131,\"formatVersion\":1,\"...</td>\n",
              "      <td>1</td>\n",
              "    </tr>\n",
              "    <tr>\n",
              "      <th>5163</th>\n",
              "      <td>{\"timestamp\":1655116153045,\"formatVersion\":1,\"...</td>\n",
              "      <td>1</td>\n",
              "    </tr>\n",
              "    <tr>\n",
              "      <th>5166</th>\n",
              "      <td>{\"timestamp\":1655116153025,\"formatVersion\":1,\"...</td>\n",
              "      <td>1</td>\n",
              "    </tr>\n",
              "    <tr>\n",
              "      <th>5167</th>\n",
              "      <td>{\"timestamp\":1655116153024,\"formatVersion\":1,\"...</td>\n",
              "      <td>1</td>\n",
              "    </tr>\n",
              "    <tr>\n",
              "      <th>5168</th>\n",
              "      <td>{\"timestamp\":1655116153023,\"formatVersion\":1,\"...</td>\n",
              "      <td>1</td>\n",
              "    </tr>\n",
              "    <tr>\n",
              "      <th>5169</th>\n",
              "      <td>{\"timestamp\":1655116153021,\"formatVersion\":1,\"...</td>\n",
              "      <td>1</td>\n",
              "    </tr>\n",
              "    <tr>\n",
              "      <th>5170</th>\n",
              "      <td>{\"timestamp\":1655116152997,\"formatVersion\":1,\"...</td>\n",
              "      <td>1</td>\n",
              "    </tr>\n",
              "    <tr>\n",
              "      <th>6198</th>\n",
              "      <td>{\"timestamp\":1655116144249,\"formatVersion\":1,\"...</td>\n",
              "      <td>1</td>\n",
              "    </tr>\n",
              "    <tr>\n",
              "      <th>9194</th>\n",
              "      <td>{\"timestamp\":1655116127086,\"formatVersion\":1,\"...</td>\n",
              "      <td>1</td>\n",
              "    </tr>\n",
              "    <tr>\n",
              "      <th>9220</th>\n",
              "      <td>{\"timestamp\":1655116126979,\"formatVersion\":1,\"...</td>\n",
              "      <td>1</td>\n",
              "    </tr>\n",
              "    <tr>\n",
              "      <th>9221</th>\n",
              "      <td>{\"timestamp\":1655116126979,\"formatVersion\":1,\"...</td>\n",
              "      <td>1</td>\n",
              "    </tr>\n",
              "    <tr>\n",
              "      <th>9222</th>\n",
              "      <td>{\"timestamp\":1655116126979,\"formatVersion\":1,\"...</td>\n",
              "      <td>1</td>\n",
              "    </tr>\n",
              "    <tr>\n",
              "      <th>9255</th>\n",
              "      <td>{\"timestamp\":1655116126817,\"formatVersion\":1,\"...</td>\n",
              "      <td>1</td>\n",
              "    </tr>\n",
              "  </tbody>\n",
              "</table>\n",
              "</div>\n",
              "      <button class=\"colab-df-convert\" onclick=\"convertToInteractive('df-19cb81db-8a0e-45fa-8508-ae9549fc42fb')\"\n",
              "              title=\"Convert this dataframe to an interactive table.\"\n",
              "              style=\"display:none;\">\n",
              "        \n",
              "  <svg xmlns=\"http://www.w3.org/2000/svg\" height=\"24px\"viewBox=\"0 0 24 24\"\n",
              "       width=\"24px\">\n",
              "    <path d=\"M0 0h24v24H0V0z\" fill=\"none\"/>\n",
              "    <path d=\"M18.56 5.44l.94 2.06.94-2.06 2.06-.94-2.06-.94-.94-2.06-.94 2.06-2.06.94zm-11 1L8.5 8.5l.94-2.06 2.06-.94-2.06-.94L8.5 2.5l-.94 2.06-2.06.94zm10 10l.94 2.06.94-2.06 2.06-.94-2.06-.94-.94-2.06-.94 2.06-2.06.94z\"/><path d=\"M17.41 7.96l-1.37-1.37c-.4-.4-.92-.59-1.43-.59-.52 0-1.04.2-1.43.59L10.3 9.45l-7.72 7.72c-.78.78-.78 2.05 0 2.83L4 21.41c.39.39.9.59 1.41.59.51 0 1.02-.2 1.41-.59l7.78-7.78 2.81-2.81c.8-.78.8-2.07 0-2.86zM5.41 20L4 18.59l7.72-7.72 1.47 1.35L5.41 20z\"/>\n",
              "  </svg>\n",
              "      </button>\n",
              "      \n",
              "  <style>\n",
              "    .colab-df-container {\n",
              "      display:flex;\n",
              "      flex-wrap:wrap;\n",
              "      gap: 12px;\n",
              "    }\n",
              "\n",
              "    .colab-df-convert {\n",
              "      background-color: #E8F0FE;\n",
              "      border: none;\n",
              "      border-radius: 50%;\n",
              "      cursor: pointer;\n",
              "      display: none;\n",
              "      fill: #1967D2;\n",
              "      height: 32px;\n",
              "      padding: 0 0 0 0;\n",
              "      width: 32px;\n",
              "    }\n",
              "\n",
              "    .colab-df-convert:hover {\n",
              "      background-color: #E2EBFA;\n",
              "      box-shadow: 0px 1px 2px rgba(60, 64, 67, 0.3), 0px 1px 3px 1px rgba(60, 64, 67, 0.15);\n",
              "      fill: #174EA6;\n",
              "    }\n",
              "\n",
              "    [theme=dark] .colab-df-convert {\n",
              "      background-color: #3B4455;\n",
              "      fill: #D2E3FC;\n",
              "    }\n",
              "\n",
              "    [theme=dark] .colab-df-convert:hover {\n",
              "      background-color: #434B5C;\n",
              "      box-shadow: 0px 1px 3px 1px rgba(0, 0, 0, 0.15);\n",
              "      filter: drop-shadow(0px 1px 2px rgba(0, 0, 0, 0.3));\n",
              "      fill: #FFFFFF;\n",
              "    }\n",
              "  </style>\n",
              "\n",
              "      <script>\n",
              "        const buttonEl =\n",
              "          document.querySelector('#df-19cb81db-8a0e-45fa-8508-ae9549fc42fb button.colab-df-convert');\n",
              "        buttonEl.style.display =\n",
              "          google.colab.kernel.accessAllowed ? 'block' : 'none';\n",
              "\n",
              "        async function convertToInteractive(key) {\n",
              "          const element = document.querySelector('#df-19cb81db-8a0e-45fa-8508-ae9549fc42fb');\n",
              "          const dataTable =\n",
              "            await google.colab.kernel.invokeFunction('convertToInteractive',\n",
              "                                                     [key], {});\n",
              "          if (!dataTable) return;\n",
              "\n",
              "          const docLinkHtml = 'Like what you see? Visit the ' +\n",
              "            '<a target=\"_blank\" href=https://colab.research.google.com/notebooks/data_table.ipynb>data table notebook</a>'\n",
              "            + ' to learn more about interactive tables.';\n",
              "          element.innerHTML = '';\n",
              "          dataTable['output_type'] = 'display_data';\n",
              "          await google.colab.output.renderOutput(dataTable, element);\n",
              "          const docLink = document.createElement('div');\n",
              "          docLink.innerHTML = docLinkHtml;\n",
              "          element.appendChild(docLink);\n",
              "        }\n",
              "      </script>\n",
              "    </div>\n",
              "  </div>\n",
              "  "
            ]
          },
          "metadata": {},
          "execution_count": 141
        }
      ]
    }
  ],
  "metadata": {
    "colab": {
      "collapsed_sections": [],
      "name": "Lavu Internship (Jun-Jul 2022).ipynb",
      "provenance": [],
      "mount_file_id": "15ObB0XFghrfLzd0IsC-sSk5tT5K0tll7",
      "authorship_tag": "ABX9TyNM/8VK2KarOHZSd24NB8U8",
      "include_colab_link": true
    },
    "kernelspec": {
      "display_name": "Python 3",
      "name": "python3"
    },
    "language_info": {
      "name": "python"
    }
  },
  "nbformat": 4,
  "nbformat_minor": 0
}